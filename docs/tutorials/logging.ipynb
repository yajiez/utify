{
  "cells": [
    {
      "cell_type": "code",
      "source": [
        "import utify\n",
        "\n",
        "logger = utify.get_logger(__name__, level='DEBUG')"
      ],
      "outputs": [],
      "execution_count": 1,
      "metadata": {
        "collapsed": false,
        "jupyter": {
          "source_hidden": false,
          "outputs_hidden": false
        },
        "nteract": {
          "transient": {
            "deleting": false
          }
        }
      }
    },
    {
      "cell_type": "code",
      "source": [
        "longtext = \"This is really long text. \" * 10"
      ],
      "outputs": [],
      "execution_count": 2,
      "metadata": {
        "collapsed": false,
        "jupyter": {
          "source_hidden": false,
          "outputs_hidden": false
        },
        "nteract": {
          "transient": {
            "deleting": false
          }
        }
      }
    },
    {
      "cell_type": "code",
      "source": [
        "print(longtext)"
      ],
      "outputs": [
        {
          "output_type": "stream",
          "name": "stdout",
          "text": [
            "This is really long text. This is really long text. This is really long text. This is really long text. This is really long text. This is really long text. This is really long text. This is really long text. This is really long text. This is really long text. \n"
          ]
        }
      ],
      "execution_count": 3,
      "metadata": {
        "collapsed": false,
        "jupyter": {
          "source_hidden": false,
          "outputs_hidden": false
        },
        "nteract": {
          "transient": {
            "deleting": false
          }
        }
      }
    },
    {
      "cell_type": "code",
      "source": [
        "print(utify.strwrap(longtext))"
      ],
      "outputs": [
        {
          "output_type": "stream",
          "name": "stdout",
          "text": [
            "This is really long text. This is really long text. This is really\n",
            " long text. This is really long text. This is really long text.\n",
            " This is really long text. This is really long text. This is\n",
            " really long text. This is really long text. This is really long\n",
            " text. -----------------------------------------------------------\n"
          ]
        }
      ],
      "execution_count": 4,
      "metadata": {
        "collapsed": false,
        "jupyter": {
          "source_hidden": false,
          "outputs_hidden": false
        },
        "nteract": {
          "transient": {
            "deleting": false
          }
        }
      }
    },
    {
      "cell_type": "code",
      "source": [
        "logger.info(\"This is info.\")\n",
        "logger.info(longtext)"
      ],
      "outputs": [
        {
          "output_type": "stream",
          "name": "stdout",
          "text": [
            "\u001b[36;21m📎 This is info.                                                      2020-01-09 19:55:14\u001b[0m\n",
            "\u001b[36;21m📎 This is really long text. This is really long text. This is really\n",
            "     long text. This is really long text. This is really long\n",
            "     text. This is really long text. This is really long text.\n",
            "     This is really long text. This is really long text. This is\n",
            "     really long text. ---------------------------------------------- 2020-01-09 19:55:14\u001b[0m\n"
          ]
        }
      ],
      "execution_count": 5,
      "metadata": {
        "collapsed": false,
        "jupyter": {
          "source_hidden": false,
          "outputs_hidden": false
        },
        "nteract": {
          "transient": {
            "deleting": false
          }
        }
      }
    },
    {
      "cell_type": "code",
      "source": [
        "logger.info('This is info.')\n",
        "logger.debug('This is debug')\n",
        "logger.warning('This is warning')\n",
        "logger.divider('This is a new section')\n",
        "logger.info(f\"This is a list: {utify.make_listing(['apple', 'banana', 'orange'])}\")\n",
        "logger.good('Successfully done something!')\n",
        "logger.divider('Another new section')\n",
        "logger.info('This is a really long text. ' * 6)\n",
        "logger.error(\"Umm, check the errors\")\n",
        "logger.fail(\"Try again : (\")\n",
        "logger.critical(\"Something serious happend!\")\n",
        "logger.summary()"
      ],
      "outputs": [
        {
          "output_type": "stream",
          "name": "stdout",
          "text": [
            "\u001b[36;21m📎 This is info.                                                      2020-01-09 19:55:15\u001b[0m\n",
            "\u001b[33;21m🧐 This is debug                                                      2020-01-09 19:55:15\u001b[0m\n",
            "\u001b[33;1m🔥 This is warning                                                    2020-01-09 19:55:15\u001b[0m\n",
            "\u001b[94m✨ \n",
            "====================== This is a new section ======================== 2020-01-09 19:55:15\u001b[0m\n",
            "\u001b[36;21m📎 This is a list:\n",
            "  + apple\n",
            "  + banana\n",
            "  + orange ---------------------------------------------------------- 2020-01-09 19:55:15\u001b[0m\n",
            "\u001b[32;1m🎉 Successfully done something!                                       2020-01-09 19:55:15\u001b[0m\n",
            "\u001b[94m✨ \n",
            "======================= Another new section ========================= 2020-01-09 19:55:15\u001b[0m\n",
            "\u001b[36;21m📎 This is a really long text. This is a really long text. This is a\n",
            "     really long text. This is a really long text. This is a\n",
            "     really long text. This is a really long text. ------------------ 2020-01-09 19:55:15\u001b[0m\n",
            "\u001b[31;21m ✘ Umm, check the errors                                              2020-01-09 19:55:15\u001b[0m\n",
            "\u001b[31;1m😞 Try again : (                                                      2020-01-09 19:55:15\u001b[0m\n",
            "\u001b[31;1m ✘ Something serious happend!                                         2020-01-09 19:55:15\u001b[0m\n",
            "\u001b[94m✨ \n",
            "========================= Logging Summary =========================== 2020-01-09 19:55:15\u001b[0m\n",
            "\u001b[36;21m📎 ✨\n",
            "  + info      : 5\n",
            "  + debug     : 1\n",
            "  + warning   : 1\n",
            "  + divider   : 2\n",
            "  + good      : 1\n",
            "  + error     : 1\n",
            "  + fail      : 1\n",
            "  + critical  : 1 --------------------------------------------------- 2020-01-09 19:55:15\u001b[0m\n",
            "\u001b[94m✨ \n",
            "===================================================================== 2020-01-09 19:55:15\u001b[0m\n"
          ]
        }
      ],
      "execution_count": 6,
      "metadata": {
        "collapsed": false,
        "jupyter": {
          "source_hidden": false,
          "outputs_hidden": false
        },
        "nteract": {
          "transient": {
            "deleting": false
          }
        }
      }
    },
    {
      "cell_type": "code",
      "source": [],
      "outputs": [],
      "execution_count": null,
      "metadata": {
        "collapsed": false,
        "jupyter": {
          "source_hidden": false,
          "outputs_hidden": false
        },
        "nteract": {
          "transient": {
            "deleting": false
          }
        }
      }
    }
  ],
  "metadata": {
    "kernel_info": {
      "name": "deeplab"
    },
    "language_info": {
      "name": "python",
      "version": "3.7.5",
      "mimetype": "text/x-python",
      "codemirror_mode": {
        "name": "ipython",
        "version": 3
      },
      "pygments_lexer": "ipython3",
      "nbconvert_exporter": "python",
      "file_extension": ".py"
    },
    "kernelspec": {
      "name": "deeplab",
      "language": "python",
      "display_name": "Deep Lab"
    },
    "nteract": {
      "version": "0.20.0-alpha.0"
    }
  },
  "nbformat": 4,
  "nbformat_minor": 0
}